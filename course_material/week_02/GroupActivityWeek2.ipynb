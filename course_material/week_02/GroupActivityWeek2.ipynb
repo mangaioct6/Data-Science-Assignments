{
 "cells": [
  {
   "cell_type": "code",
   "execution_count": 10,
   "id": "4962e720",
   "metadata": {},
   "outputs": [
    {
     "name": "stdout",
     "output_type": "stream",
     "text": [
      "Enter a number :9\n",
      "weird\n"
     ]
    }
   ],
   "source": [
    "n=int(input(\"Enter a number :\"))  \n",
    "if n%2==0 and n in range (2,5):\n",
    "    print(\"not weird\")\n",
    "elif n%2==0 and n in range (6,20):\n",
    "    print(\"weird\")\n",
    "if n%2==0 and n>20:\n",
    "    print(\"not weird\")\n",
    "else: \n",
    "    print(\"weird\")"
   ]
  },
  {
   "cell_type": "code",
   "execution_count": null,
   "id": "77692cff",
   "metadata": {},
   "outputs": [],
   "source": []
  },
  {
   "cell_type": "code",
   "execution_count": null,
   "id": "5cc70066",
   "metadata": {},
   "outputs": [],
   "source": []
  }
 ],
 "metadata": {
  "celltoolbar": "Edit Metadata",
  "kernelspec": {
   "display_name": "Python 3 (ipykernel)",
   "language": "python",
   "name": "python3"
  },
  "language_info": {
   "codemirror_mode": {
    "name": "ipython",
    "version": 3
   },
   "file_extension": ".py",
   "mimetype": "text/x-python",
   "name": "python",
   "nbconvert_exporter": "python",
   "pygments_lexer": "ipython3",
   "version": "3.7.4"
  }
 },
 "nbformat": 4,
 "nbformat_minor": 5
}
